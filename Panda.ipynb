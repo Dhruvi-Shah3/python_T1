{
 "cells": [
  {
   "cell_type": "code",
   "execution_count": 2,
   "metadata": {},
   "outputs": [],
   "source": [
    "import pandas as pd\n",
    "import numpy as np"
   ]
  },
  {
   "cell_type": "code",
   "execution_count": 3,
   "metadata": {},
   "outputs": [
    {
     "name": "stdout",
     "output_type": "stream",
     "text": [
      "0    vishal\n",
      "1     kavit\n",
      "2       MVP\n",
      "dtype: object\n"
     ]
    }
   ],
   "source": [
    "ds=pd.Series(['vishal','kavit','MVP'])\n",
    "print (ds)"
   ]
  },
  {
   "cell_type": "code",
   "execution_count": 8,
   "metadata": {},
   "outputs": [
    {
     "name": "stdout",
     "output_type": "stream",
     "text": [
      "python    10\n",
      "COA        9\n",
      "fsd        9\n",
      "TOC        8\n",
      "DM         8\n",
      "dtype: int64\n"
     ]
    }
   ],
   "source": [
    "Feedback=[10,9,9,8,8]\n",
    "sub=['python','COA','fsd','TOC','DM']\n",
    "ds=pd.Series(Feedback,index=sub)\n",
    "print(ds)"
   ]
  },
  {
   "cell_type": "code",
   "execution_count": 9,
   "metadata": {},
   "outputs": [
    {
     "name": "stdout",
     "output_type": "stream",
     "text": [
      "python    10\n",
      "FSD        9\n",
      "DM         8\n",
      "Toc        5\n",
      "dtype: int64\n",
      "<class 'pandas.core.series.Series'>\n"
     ]
    }
   ],
   "source": [
    "d={'python':10,'FSD':9,'DM':8,'Toc':5}\n",
    "ds=pd.Series(d)\n",
    "print(ds)\n",
    "print(type(ds))"
   ]
  },
  {
   "cell_type": "code",
   "execution_count": 10,
   "metadata": {},
   "outputs": [
    {
     "name": "stdout",
     "output_type": "stream",
     "text": [
      "   roll\n",
      "0     1\n",
      "1     2\n",
      "2     3\n",
      "3     4\n",
      "4     5\n",
      "5     6\n",
      "6     7\n"
     ]
    }
   ],
   "source": [
    "ds=pd.read_csv('Book1.csv')\n",
    "print(ds)"
   ]
  },
  {
   "cell_type": "code",
   "execution_count": 11,
   "metadata": {},
   "outputs": [
    {
     "name": "stdout",
     "output_type": "stream",
     "text": [
      "   0   1  2\n",
      "0  1  10  9\n",
      "1  2   9  8\n",
      "2  3  10  9\n"
     ]
    }
   ],
   "source": [
    "L=[[1,10,9],[2,9,8],[3,10,9]]\n",
    "x=pd.DataFrame(L)\n",
    "print(x)"
   ]
  },
  {
   "cell_type": "code",
   "execution_count": 12,
   "metadata": {},
   "outputs": [
    {
     "name": "stdout",
     "output_type": "stream",
     "text": [
      "   0   1  2\n",
      "A  1  10  9\n",
      "B  2   9  8\n",
      "C  3  10  9\n"
     ]
    }
   ],
   "source": [
    "L=[[1,10,9],[2,9,8],[3,10,9]]\n",
    "x=pd.DataFrame(L,index=['A','B','C'])\n",
    "print(x)"
   ]
  },
  {
   "cell_type": "code",
   "execution_count": 13,
   "metadata": {},
   "outputs": [
    {
     "name": "stdout",
     "output_type": "stream",
     "text": [
      "   Roll  Python  FSD\n",
      "A     1      10    9\n",
      "B     2       9    8\n",
      "C     3      10    9\n"
     ]
    }
   ],
   "source": [
    "L=[[1,10,9],[2,9,8],[3,10,9]]\n",
    "x=pd.DataFrame(L,index=['A','B','C'],columns=['Roll','Python','FSD'])\n",
    "print(x)"
   ]
  },
  {
   "cell_type": "code",
   "execution_count": 18,
   "metadata": {},
   "outputs": [
    {
     "name": "stdout",
     "output_type": "stream",
     "text": [
      "   Roll  py  FSD\n",
      "0     1   2    3\n",
      "1    10   9   10\n",
      "2     9   8    9\n"
     ]
    }
   ],
   "source": [
    "L={'Roll':[1,10,9],'py':[2,9,8],'FSD':[3,10,9]}\n",
    "x=pd.DataFrame(L)\n",
    "print(x)"
   ]
  },
  {
   "cell_type": "code",
   "execution_count": 26,
   "metadata": {},
   "outputs": [
    {
     "name": "stdout",
     "output_type": "stream",
     "text": [
      "   roll  marks subject Remarks\n",
      "0     1     12       a       A\n",
      "1     2    123       b       B\n",
      "2     3    146       c       C\n",
      "3     4    222       d       D\n",
      "4     5    221       e       E\n",
      "5     6    222       f       A\n",
      "6     7    456       g       B\n"
     ]
    }
   ],
   "source": [
    "ds=pd.read_csv('Book3.csv')\n",
    "print(ds)"
   ]
  },
  {
   "cell_type": "code",
   "execution_count": 27,
   "metadata": {},
   "outputs": [
    {
     "name": "stdout",
     "output_type": "stream",
     "text": [
      "      marks subject Remarks\n",
      "roll                       \n",
      "1        12       a       A\n",
      "2       123       b       B\n",
      "3       146       c       C\n",
      "4       222       d       D\n",
      "5       221       e       E\n",
      "6       222       f       A\n",
      "7       456       g       B\n"
     ]
    }
   ],
   "source": [
    "ds=pd.read_csv('Book3.csv')\n",
    "ds=ds.set_index('roll')\n",
    "print(ds)"
   ]
  },
  {
   "cell_type": "code",
   "execution_count": 35,
   "metadata": {},
   "outputs": [
    {
     "name": "stdout",
     "output_type": "stream",
     "text": [
      "      marks subject Remarks\n",
      "roll                       \n",
      "1        12       a       A\n",
      "2       123       b       B\n",
      "3       146       c       C\n",
      "4       222       d       D\n",
      "5       221       e       E\n",
      "6       222       f       A\n",
      "7       456       g       B\n"
     ]
    },
    {
     "data": {
      "text/plain": [
       "Int64Index([1, 2, 3, 4, 5, 6, 7], dtype='int64', name='roll')"
      ]
     },
     "execution_count": 35,
     "metadata": {},
     "output_type": "execute_result"
    }
   ],
   "source": [
    "ds=pd.read_csv('Book3.csv')\n",
    "ds=ds.set_index('roll')\n",
    "print(ds)\n",
    "ds.dtypes\n",
    "ds.index"
   ]
  },
  {
   "cell_type": "code",
   "execution_count": 37,
   "metadata": {},
   "outputs": [
    {
     "data": {
      "text/plain": [
       "marks       int64\n",
       "subject    object\n",
       "Remarks    object\n",
       "dtype: object"
      ]
     },
     "execution_count": 37,
     "metadata": {},
     "output_type": "execute_result"
    }
   ],
   "source": [
    "ds.dtypes"
   ]
  },
  {
   "cell_type": "code",
   "execution_count": 38,
   "metadata": {},
   "outputs": [
    {
     "data": {
      "text/plain": [
       "Index(['marks', 'subject', 'Remarks'], dtype='object')"
      ]
     },
     "execution_count": 38,
     "metadata": {},
     "output_type": "execute_result"
    }
   ],
   "source": [
    "ds.columns"
   ]
  },
  {
   "cell_type": "code",
   "execution_count": 40,
   "metadata": {},
   "outputs": [
    {
     "data": {
      "text/plain": [
       "[Int64Index([1, 2, 3, 4, 5, 6, 7], dtype='int64', name='roll'),\n",
       " Index(['marks', 'subject', 'Remarks'], dtype='object')]"
      ]
     },
     "execution_count": 40,
     "metadata": {},
     "output_type": "execute_result"
    }
   ],
   "source": [
    "ds.axes"
   ]
  },
  {
   "cell_type": "code",
   "execution_count": 41,
   "metadata": {},
   "outputs": [
    {
     "data": {
      "text/plain": [
       "array([[12, 'a', 'A'],\n",
       "       [123, 'b', 'B'],\n",
       "       [146, 'c', 'C'],\n",
       "       [222, 'd', 'D'],\n",
       "       [221, 'e', 'E'],\n",
       "       [222, 'f', 'A'],\n",
       "       [456, 'g', 'B']], dtype=object)"
      ]
     },
     "execution_count": 41,
     "metadata": {},
     "output_type": "execute_result"
    }
   ],
   "source": [
    "ds.values"
   ]
  },
  {
   "cell_type": "code",
   "execution_count": 42,
   "metadata": {},
   "outputs": [
    {
     "data": {
      "text/plain": [
       "Int64Index([1, 2, 3, 4, 5, 6, 7], dtype='int64', name='roll')"
      ]
     },
     "execution_count": 42,
     "metadata": {},
     "output_type": "execute_result"
    }
   ],
   "source": [
    "ds.index"
   ]
  },
  {
   "cell_type": "code",
   "execution_count": 43,
   "metadata": {},
   "outputs": [
    {
     "data": {
      "text/plain": [
       "(7, 3)"
      ]
     },
     "execution_count": 43,
     "metadata": {},
     "output_type": "execute_result"
    }
   ],
   "source": [
    "##imp\n",
    "ds.shape"
   ]
  },
  {
   "cell_type": "code",
   "execution_count": 44,
   "metadata": {},
   "outputs": [
    {
     "data": {
      "text/plain": [
       "21"
      ]
     },
     "execution_count": 44,
     "metadata": {},
     "output_type": "execute_result"
    }
   ],
   "source": [
    "##IMP\n",
    "##mutiplication of rows and columns\n",
    "ds.size\n"
   ]
  },
  {
   "cell_type": "code",
   "execution_count": null,
   "metadata": {},
   "outputs": [],
   "source": []
  }
 ],
 "metadata": {
  "kernelspec": {
   "display_name": "Python 3",
   "language": "python",
   "name": "python3"
  },
  "language_info": {
   "codemirror_mode": {
    "name": "ipython",
    "version": 3
   },
   "file_extension": ".py",
   "mimetype": "text/x-python",
   "name": "python",
   "nbconvert_exporter": "python",
   "pygments_lexer": "ipython3",
   "version": "3.8.5"
  }
 },
 "nbformat": 4,
 "nbformat_minor": 4
}
